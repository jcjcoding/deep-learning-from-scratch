{
 "cells": [
  {
   "cell_type": "code",
   "execution_count": 3,
   "id": "81c7b32e-5ab7-469c-81fe-86f7a59b741b",
   "metadata": {},
   "outputs": [],
   "source": [
    "import torch  \n",
    "import torch.nn as nn   \n",
    "import torch.optim as optim  \n",
    "from torchvision import datasets, transforms \n",
    "from torch.utils.data import DataLoader  \n",
    "import matplotlib.pyplot as plt  "
   ]
  },
  {
   "cell_type": "code",
   "execution_count": 4,
   "id": "51efca5b-e963-40af-b5d1-f0a2cdbb005a",
   "metadata": {},
   "outputs": [],
   "source": [
    "transform = transforms.Compose([  \n",
    "    transforms.Resize((32, 32)),  \n",
    "    transforms.ToTensor(), \n",
    "    transforms.Normalize((0.1307,), (0.3081,)) \n",
    "])  #处理数据的模式\n",
    "#第一层卷积（5×5 kernel）：32×32 输入 → 28×28 输出（32-5+1=28）；\n",
    "#第一层池化（2×2）：28×28 → 14×14；\n",
    "#第二层卷积（5×5）：14×14 → 10×10；\n",
    "#第二层池化（2×2）：10×10 → 5×5；"
   ]
  },
  {
   "cell_type": "code",
   "execution_count": 5,
   "id": "20fdd544-3a0e-467c-98ab-8d2edc3ee786",
   "metadata": {},
   "outputs": [
    {
     "name": "stderr",
     "output_type": "stream",
     "text": [
      "100.0%\n",
      "100.0%\n",
      "100.0%\n",
      "100.0%\n"
     ]
    }
   ],
   "source": [
    "train_dataset = datasets.MNIST(  \n",
    "    root=\"./data\",  \n",
    "    train=True,  \n",
    "    download=True,  \n",
    "    transform=transform  \n",
    ")  \n",
    "test_dataset = datasets.MNIST(  \n",
    "    root=\"./data\",  \n",
    "    train=False,  \n",
    "    download=True,  \n",
    "    transform=transform  \n",
    ")  "
   ]
  },
  {
   "cell_type": "code",
   "execution_count": 6,
   "id": "31072f9f-b21e-491b-8f7b-6fcad048ba02",
   "metadata": {},
   "outputs": [],
   "source": [
    "# batch_size=64：每次训练用64张图  \n",
    "# shuffle=True：训练时打乱图片顺序\n",
    "train_loader = DataLoader(train_dataset, batch_size=64, shuffle=True)  \n",
    "test_loader = DataLoader(test_dataset, batch_size=64, shuffle=False)  # 测试不用打乱  "
   ]
  },
  {
   "cell_type": "code",
   "execution_count": 8,
   "id": "f13826b1-933c-4f7f-b1ca-5163c61ca8db",
   "metadata": {},
   "outputs": [
    {
     "name": "stdout",
     "output_type": "stream",
     "text": [
      "一批图片的形状：torch.Size([64, 1, 32, 32])\n",
      "对应的标签形状：torch.Size([64])\n"
     ]
    }
   ],
   "source": [
    "images, labels = next(iter(train_loader))  \n",
    "print(f\"一批图片的形状：{images.shape}\")  # 64张图，1通道，32×32  \n",
    "print(f\"对应的标签形状：{labels.shape}\")  # 64个标签"
   ]
  },
  {
   "cell_type": "code",
   "execution_count": 11,
   "id": "ad799013-6a37-4a02-b20d-edd9901104e1",
   "metadata": {},
   "outputs": [
    {
     "data": {
      "image/png": "[encoded data removed]",
      "text/plain": [
       "<Figure size 640x480 with 1 Axes>"
      ]
     },
     "metadata": {},
     "output_type": "display_data"
    }
   ],
   "source": [
    "plt.rcParams[\"font.family\"] = [\"SimHei\"]\n",
    "plt.rcParams[\"axes.unicode_minus\"] = False\n",
    "plt.imshow(images[0].squeeze(), cmap=\"gray\")  # squeeze()去掉通道维度，只留32×32  \n",
    "plt.title(f\"标签：{labels[0].item()}\")  # 显示真实数字  \n",
    "plt.show() "
   ]
  },
  {
   "cell_type": "code",
   "execution_count": null,
   "id": "5abea0dd-71fb-4e14-9324-4358cffd8ad7",
   "metadata": {},
   "outputs": [],
   "source": [
    "class LeNet5(nn.Module):  \n",
    "    def __init__(self):  \n",
    "        super(LeNet5, self).__init__()  \n",
    "\n",
    "        # 第一部分：卷积层+池化层（提取特征，保留空间结构）  \n",
    "        self.conv_part = nn.Sequential(  \n",
    "            \n",
    "            # C1层：卷积层 1通道 6卷积核5x5 滑动1像素 0填充  （提取边缘、拐角等低级特征）\n",
    "            nn.Conv2d(in_channels=1, out_channels=6, kernel_size=5, stride=1, padding=0),  \n",
    "            nn.Tanh(),  # 激活函数：把输出压缩到[-1,1]，增加非线性（让模型能学复杂特征）  \n",
    "\n",
    "            # S2层：池化层  2×2的区域取平均 滑动2像素 \n",
    "            nn.AvgPool2d(kernel_size=2, stride=2),  \n",
    "\n",
    "            # C3层：卷积层 6通道 16卷积核5x5 滑动1像素 0填充（组合低级特征，提取更复杂的特征，比如“半圈”）  \n",
    "            nn.Conv2d(in_channels=6, out_channels=16, kernel_size=5, stride=1, padding=0),  \n",
    "            nn.Tanh(),  \n",
    "\n",
    "            # S4层：池化层  \n",
    "            nn.AvgPool2d(kernel_size=2, stride=2)  \n",
    "        )  \n",
    "\n",
    "        # 第二部分：全连接层（整合特征，输出分类结果）  \n",
    "        self.fc_part = nn.Sequential(  \n",
    "            # C5层：全连接层  S4的输出是16通道5×5的特征图，展平后是16×5×5=400 输出120个特征 \n",
    "            nn.Linear(in_features=16*5*5, out_features=120),  \n",
    "            nn.Tanh(),  \n",
    "\n",
    "            # F6层：全连接层（进一步提炼特征）  \n",
    "            nn.Linear(in_features=120, out_features=84),  \n",
    "            nn.Tanh(),  \n",
    "\n",
    "            # 输出层：10个神经元（对应0-9），不激活（后面用CrossEntropyLoss，自带softmax）  \n",
    "            nn.Linear(in_features=84, out_features=10)  \n",
    "        )  \n",
    "  \n",
    "    def forward(self, x):  \n",
    "        x = self.conv_part(x)  # 卷积和池化 \n",
    "        x = x.view(-1, 16*5*5)  # 展平：把16×5×5的特征图转成1×400的向量 \n",
    "        x = self.fc_part(x)  # 全连接 \n",
    "        return x  # 输出10个logits(原始分数)"
   ]
  },
  {
   "cell_type": "code",
   "execution_count": null,
   "id": "491668f7-e7c9-4e47-9994-d824a524d781",
   "metadata": {},
   "outputs": [],
   "source": [
    "model = LeNet5()  \n",
    "\n",
    "# 损失函数CrossEntropyLoss：自带softmax，直接用logits计算损失（适合分类问题）  \n",
    "criterion = nn.CrossEntropyLoss()  \n",
    "\n",
    "# momentum=0.9：动量（加速收敛，给梯度下降增加惯性）  \n",
    "optimizer = optim.SGD(model.parameters(), lr=0.01, momentum=0.9)  "
   ]
  },
  {
   "cell_type": "code",
   "execution_count": null,
   "id": "3ea5c9cb-5bb0-4453-ad1c-c00b1b525fc9",
   "metadata": {},
   "outputs": [
    {
     "name": "stdout",
     "output_type": "stream",
     "text": [
      "轮次 [1/10], 批次 [100/938], 损失: 0.6902\n",
      "轮次 [1/10], 批次 [200/938], 损失: 0.3967\n",
      "轮次 [1/10], 批次 [300/938], 损失: 0.3011\n",
      "轮次 [1/10], 批次 [400/938], 损失: 0.4911\n",
      "轮次 [1/10], 批次 [500/938], 损失: 0.1514\n",
      "轮次 [1/10], 批次 [600/938], 损失: 0.2027\n",
      "轮次 [1/10], 批次 [700/938], 损失: 0.1480\n",
      "轮次 [1/10], 批次 [800/938], 损失: 0.1049\n",
      "轮次 [1/10], 批次 [900/938], 损失: 0.2060\n",
      "轮次 1/10 结束：平均损失 = 0.3894, 准确率 = 88.67%\n",
      "轮次 [2/10], 批次 [100/938], 损失: 0.0800\n",
      "轮次 [2/10], 批次 [200/938], 损失: 0.0816\n",
      "轮次 [2/10], 批次 [300/938], 损失: 0.0626\n",
      "轮次 [2/10], 批次 [400/938], 损失: 0.0955\n",
      "轮次 [2/10], 批次 [500/938], 损失: 0.0506\n",
      "轮次 [2/10], 批次 [600/938], 损失: 0.0423\n",
      "轮次 [2/10], 批次 [700/938], 损失: 0.1146\n",
      "轮次 [2/10], 批次 [800/938], 损失: 0.0294\n",
      "轮次 [2/10], 批次 [900/938], 损失: 0.1054\n",
      "轮次 2/10 结束：平均损失 = 0.0922, 准确率 = 97.24%\n",
      "轮次 [3/10], 批次 [100/938], 损失: 0.0167\n",
      "轮次 [3/10], 批次 [200/938], 损失: 0.1771\n",
      "轮次 [3/10], 批次 [300/938], 损失: 0.0112\n",
      "轮次 [3/10], 批次 [400/938], 损失: 0.0192\n",
      "轮次 [3/10], 批次 [500/938], 损失: 0.0645\n",
      "轮次 [3/10], 批次 [600/938], 损失: 0.0154\n",
      "轮次 [3/10], 批次 [700/938], 损失: 0.0377\n",
      "轮次 [3/10], 批次 [800/938], 损失: 0.0530\n",
      "轮次 [3/10], 批次 [900/938], 损失: 0.0401\n",
      "轮次 3/10 结束：平均损失 = 0.0610, 准确率 = 98.16%\n",
      "轮次 [4/10], 批次 [100/938], 损失: 0.0198\n",
      "轮次 [4/10], 批次 [200/938], 损失: 0.0392\n",
      "轮次 [4/10], 批次 [300/938], 损失: 0.0038\n",
      "轮次 [4/10], 批次 [400/938], 损失: 0.0444\n",
      "轮次 [4/10], 批次 [500/938], 损失: 0.0344\n",
      "轮次 [4/10], 批次 [600/938], 损失: 0.0616\n",
      "轮次 [4/10], 批次 [700/938], 损失: 0.0076\n",
      "轮次 [4/10], 批次 [800/938], 损失: 0.0646\n",
      "轮次 [4/10], 批次 [900/938], 损失: 0.0480\n",
      "轮次 4/10 结束：平均损失 = 0.0480, 准确率 = 98.52%\n",
      "轮次 [5/10], 批次 [100/938], 损失: 0.0669\n",
      "轮次 [5/10], 批次 [200/938], 损失: 0.0264\n",
      "轮次 [5/10], 批次 [300/938], 损失: 0.0302\n",
      "轮次 [5/10], 批次 [400/938], 损失: 0.0079\n",
      "轮次 [5/10], 批次 [500/938], 损失: 0.0563\n",
      "轮次 [5/10], 批次 [600/938], 损失: 0.0634\n",
      "轮次 [5/10], 批次 [700/938], 损失: 0.0407\n",
      "轮次 [5/10], 批次 [800/938], 损失: 0.0196\n",
      "轮次 [5/10], 批次 [900/938], 损失: 0.0815\n",
      "轮次 5/10 结束：平均损失 = 0.0389, 准确率 = 98.80%\n",
      "轮次 [6/10], 批次 [100/938], 损失: 0.0161\n",
      "轮次 [6/10], 批次 [200/938], 损失: 0.0266\n",
      "轮次 [6/10], 批次 [300/938], 损失: 0.0081\n",
      "轮次 [6/10], 批次 [400/938], 损失: 0.0101\n",
      "轮次 [6/10], 批次 [500/938], 损失: 0.0218\n",
      "轮次 [6/10], 批次 [600/938], 损失: 0.0135\n",
      "轮次 [6/10], 批次 [700/938], 损失: 0.0169\n",
      "轮次 [6/10], 批次 [800/938], 损失: 0.0768\n",
      "轮次 [6/10], 批次 [900/938], 损失: 0.1031\n",
      "轮次 6/10 结束：平均损失 = 0.0338, 准确率 = 99.00%\n",
      "轮次 [7/10], 批次 [100/938], 损失: 0.0014\n",
      "轮次 [7/10], 批次 [200/938], 损失: 0.0120\n",
      "轮次 [7/10], 批次 [300/938], 损失: 0.0283\n",
      "轮次 [7/10], 批次 [400/938], 损失: 0.0109\n",
      "轮次 [7/10], 批次 [500/938], 损失: 0.0063\n",
      "轮次 [7/10], 批次 [600/938], 损失: 0.0066\n",
      "轮次 [7/10], 批次 [700/938], 损失: 0.0221\n",
      "轮次 [7/10], 批次 [800/938], 损失: 0.0047\n",
      "轮次 [7/10], 批次 [900/938], 损失: 0.0263\n",
      "轮次 7/10 结束：平均损失 = 0.0287, 准确率 = 99.11%\n",
      "轮次 [8/10], 批次 [100/938], 损失: 0.1071\n",
      "轮次 [8/10], 批次 [200/938], 损失: 0.0216\n",
      "轮次 [8/10], 批次 [300/938], 损失: 0.0081\n",
      "轮次 [8/10], 批次 [400/938], 损失: 0.0042\n",
      "轮次 [8/10], 批次 [500/938], 损失: 0.0241\n",
      "轮次 [8/10], 批次 [600/938], 损失: 0.0315\n",
      "轮次 [8/10], 批次 [700/938], 损失: 0.0091\n",
      "轮次 [8/10], 批次 [800/938], 损失: 0.0995\n",
      "轮次 [8/10], 批次 [900/938], 损失: 0.0070\n",
      "轮次 8/10 结束：平均损失 = 0.0256, 准确率 = 99.22%\n",
      "轮次 [9/10], 批次 [100/938], 损失: 0.0035\n",
      "轮次 [9/10], 批次 [200/938], 损失: 0.0287\n",
      "轮次 [9/10], 批次 [300/938], 损失: 0.0140\n",
      "轮次 [9/10], 批次 [400/938], 损失: 0.0043\n",
      "轮次 [9/10], 批次 [500/938], 损失: 0.0057\n",
      "轮次 [9/10], 批次 [600/938], 损失: 0.0089\n",
      "轮次 [9/10], 批次 [700/938], 损失: 0.0347\n",
      "轮次 [9/10], 批次 [800/938], 损失: 0.0064\n",
      "轮次 [9/10], 批次 [900/938], 损失: 0.0138\n",
      "轮次 9/10 结束：平均损失 = 0.0221, 准确率 = 99.34%\n",
      "轮次 [10/10], 批次 [100/938], 损失: 0.0057\n",
      "轮次 [10/10], 批次 [200/938], 损失: 0.0041\n",
      "轮次 [10/10], 批次 [300/938], 损失: 0.0086\n",
      "轮次 [10/10], 批次 [400/938], 损失: 0.0068\n",
      "轮次 [10/10], 批次 [500/938], 损失: 0.0703\n",
      "轮次 [10/10], 批次 [600/938], 损失: 0.0043\n",
      "轮次 [10/10], 批次 [700/938], 损失: 0.0572\n",
      "轮次 [10/10], 批次 [800/938], 损失: 0.0025\n",
      "轮次 [10/10], 批次 [900/938], 损失: 0.0057\n",
      "轮次 10/10 结束：平均损失 = 0.0203, 准确率 = 99.38%\n"
     ]
    }
   ],
   "source": [
    " \n",
    "epochs = 10  # 训练10轮\n",
    "train_losses = []  # 训练损失\n",
    "train_accs = []  # 训练准确率  \n",
    "  \n",
    "for epoch in range(epochs):   \n",
    "    model.train()  # 切换到训练模式\n",
    "    running_loss = 0.0  # 记录本轮的总损失  \n",
    "    correct = 0  # 记录本轮正确预测的数量  \n",
    "    total = 0  # 记录本轮总样本数  \n",
    " \n",
    "    for i, (images, labels) in enumerate(train_loader):  \n",
    "        # 依旧清空梯度\n",
    "        optimizer.zero_grad()  \n",
    "\n",
    "        # 前向传播：用当前模型预测标签  \n",
    "        outputs = model(images)  # 输出10个logits（形状[64,10]）  \n",
    "\n",
    "        # 计算损失：预测结果和真实标签的差距  \n",
    "        loss = criterion(outputs, labels)  \n",
    "\n",
    "        # 反向传播：计算每个参数的梯度 \n",
    "        loss.backward()  \n",
    "\n",
    "        # 根据梯度更新参数\n",
    "        optimizer.step()  \n",
    "\n",
    "        # 记录损失和准确率  \n",
    "        running_loss += loss.item()  # 累加损失（item()把张量转成数字）  \n",
    "\n",
    "        # 计算准确率：取logits中最大值的位置作为预测标签  \n",
    "        _, predicted = torch.max(outputs.data, 1)  # predicted是预测的标签（形状[64]）  \n",
    "        total += labels.size(0)  # 累加总样本数（每批64个）  \n",
    "        correct += (predicted == labels).sum().item()  # 累加正确的数量  \n",
    "\n",
    "        # 每100个批次打印一次中间结果（看进度）  \n",
    "        if (i + 1) % 100 == 0:  \n",
    "            print(f\"轮次 [{epoch+1}/{epochs}], 批次 [{i+1}/{len(train_loader)}], 损失: {loss.item():.4f}\")  \n",
    "\n",
    "    # 本轮训练结束，计算平均损失和准确率  \n",
    "    avg_loss = running_loss / len(train_loader)  \n",
    "    accuracy = 100 * correct / total  \n",
    "    train_losses.append(avg_loss)  \n",
    "    train_accs.append(accuracy)  \n",
    "\n",
    "    print(f\"轮次 {epoch+1}/{epochs} 结束：平均损失 = {avg_loss:.4f}, 准确率 = {accuracy:.2f}%\")  "
   ]
  },
  {
   "cell_type": "code",
   "execution_count": null,
   "id": "7edbb5e1-742e-41ee-9c38-960e0577107a",
   "metadata": {},
   "outputs": [
    {
     "name": "stdout",
     "output_type": "stream",
     "text": [
      "\n",
      "测试集结果：平均损失 = 0.0320, 准确率 = 98.94%\n"
     ]
    }
   ],
   "source": [
    "model.eval()  # 切换到测试模式\n",
    "test_correct = 0  \n",
    "test_total = 0  \n",
    "test_loss = 0.0  \n",
    " \n",
    "with torch.no_grad():  \n",
    "    for images, labels in test_loader:  \n",
    "        outputs = model(images)  # 预测  \n",
    "        loss = criterion(outputs, labels)  # 计算测试损失  \n",
    "        test_loss += loss.item()  \n",
    "\n",
    "        _, predicted = torch.max(outputs.data, 1)  \n",
    "        test_total += labels.size(0)  \n",
    "        test_correct += (predicted == labels).sum().item()  \n",
    "\n",
    "# 计算测试集的平均损失和准确率  \n",
    "avg_test_loss = test_loss / len(test_loader)  \n",
    "test_accuracy = 100 * test_correct / test_total  \n",
    "print(f\"\\n测试集结果：平均损失 = {avg_test_loss:.4f}, 准确率 = {test_accuracy:.2f}%\")  "
   ]
  },
  {
   "cell_type": "code",
   "execution_count": null,
   "id": "ad92a672-c2c2-436b-b75a-3f18082c8fd0",
   "metadata": {},
   "outputs": [
    {
     "data": {
      "image/png": "[encoded data removed]",
      "text/plain": [
       "<Figure size 640x480 with 1 Axes>"
      ]
     },
     "metadata": {},
     "output_type": "display_data"
    }
   ],
   "source": [
    "# 从测试集中取一张图片  \n",
    "test_image, test_label = test_dataset[5]  \n",
    "  \n",
    "test_image = test_image.unsqueeze(0)  \n",
    "\n",
    "# 预测  \n",
    "model.eval()  \n",
    "with torch.no_grad():  \n",
    "    output = model(test_image)  \n",
    "    _, pred_label = torch.max(output, 1)  \n",
    "\n",
    "# 画图显示结果  \n",
    "plt.imshow(test_image.squeeze(), cmap=\"gray\")  \n",
    "plt.title(f\"真实标签：{test_label}, 预测标签：{pred_label.item()}\")  \n",
    "plt.show()  "
   ]
  },
  {
   "cell_type": "code",
   "execution_count": null,
   "id": "429a0c86-ed2a-4d7f-a3d9-202b50b1cc57",
   "metadata": {},
   "outputs": [],
   "source": []
  }
 ],
 "metadata": {
  "kernelspec": {
   "display_name": "Python 3 (ipykernel)",
   "language": "python",
   "name": "python3"
  },
  "language_info": {
   "codemirror_mode": {
    "name": "ipython",
    "version": 3
   },
   "file_extension": ".py",
   "mimetype": "text/x-python",
   "name": "python",
   "nbconvert_exporter": "python",
   "pygments_lexer": "ipython3",
   "version": "3.11.13"
  }
 },
 "nbformat": 4,
 "nbformat_minor": 5
}
